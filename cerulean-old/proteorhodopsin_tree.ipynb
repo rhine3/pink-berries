{
 "cells": [
  {
   "cell_type": "markdown",
   "metadata": {},
   "source": [
    "RENAMED FROM \"Bacteroidetes in Pink Berry Aggregates (quality check, characterization, protreorhodopsin tree-making)\"\n",
    "\n",
    "By Eliza Wainwright \n",
    "\n",
    "Included in this notebook:\n",
    "\n",
    "1. Quality check and characterization of Bacteroidetes using Phylosift\n",
    "Additional files necessary for this workflow (supplied by Lizzy Wilbanks)\n",
    "    -Bacteroidetes 1-5 from pink berry aggregates full genome scaffolds as .fasta or .fa files\n",
    "\n",
    "2. Proteorhodopsin phylogenetic tree construction\n",
    "Additional files necessary for this workflow (supplied by Lizzy Wilbanks)\n",
    "    -Rhodopsin gene alignment for tree as .fasta or .faa files and .stockholm or .stk files\n",
    "    -Bacteriorhodopsin gene sequence from Bacteroidetes in pink berry aggregates as .fasta or .fa files (available on IMG Wilbanks data)"
   ]
  },
  {
   "cell_type": "markdown",
   "metadata": {},
   "source": [
    "First: Phylosift workflow for quality check and characterization of Bacteroidetes\n",
    "\n",
    "Run this program in an instance because it takes a fair amount of time and computer power. Once ssh-ed into an instance, download the program from https://phylosift.wordpress.com/ ."
   ]
  },
  {
   "cell_type": "code",
   "execution_count": null,
   "metadata": {
    "collapsed": false
   },
   "outputs": [],
   "source": [
    "!wget http://edhar.genomecenter.ucdavis.edu/~koadman/phylosift/releases/phylosift_v1.0.1.tar.bz2"
   ]
  },
  {
   "cell_type": "markdown",
   "metadata": {},
   "source": [
    "This output means the program was succesfully installed onto the machine. \n",
    "This file will need to be unzipped, and you may want to take some time becoming familiar with what Phylosift does. There is a tutorial and some unzipping directions available at https://phylosift.wordpress.com/ . "
   ]
  },
  {
   "cell_type": "code",
   "execution_count": null,
   "metadata": {
    "collapsed": false
   },
   "outputs": [],
   "source": [
    "!tar -xvf phylosift_v1.0.1.tar.bz2"
   ]
  },
  {
   "cell_type": "markdown",
   "metadata": {},
   "source": [
    "Once unzipped, transfer the target files for examination (Bacteroidetes genome fasta files) from the local machine to the instance using the scp command. Then navigate into the directory created in the instance."
   ]
  },
  {
   "cell_type": "code",
   "execution_count": null,
   "metadata": {
    "collapsed": false
   },
   "outputs": [],
   "source": [
    "!scp -i /Users/Eliza/Desktop/amazon.pem /Users/Eliza/Desktop/berry-metagenome/genome_assemblies/b1_scaffold_1kb.fa \n",
    "ubuntu@ec2-107-23-173-128.compute-1.amazonaws.com:/home/ubuntu/phylosift_v1.0.1\n",
    "!cd phylosift_v1.0.1/"
   ]
  },
  {
   "cell_type": "markdown",
   "metadata": {},
   "source": [
    "Before running anything, open screen and use the command top to see what is running in the other screen. "
   ]
  },
  {
   "cell_type": "code",
   "execution_count": null,
   "metadata": {
    "collapsed": false
   },
   "outputs": [],
   "source": [
    "!screen\n",
    "!top\n",
    "!^a^c\n",
    "!^a^a"
   ]
  },
  {
   "cell_type": "markdown",
   "metadata": {},
   "source": [
    "To search files against the database, run the following command:"
   ]
  },
  {
   "cell_type": "code",
   "execution_count": null,
   "metadata": {
    "collapsed": false
   },
   "outputs": [],
   "source": [
    "./phylosift all --threads number-of-cores-you-want-to-use bacteroidetes_genome.fa"
   ]
  },
  {
   "cell_type": "markdown",
   "metadata": {},
   "source": [
    "This command may run for a while- keep an eye on it using screen, toggling back and forth using ^a^a. The output will be a directory within the PS_temp directory of Phylosift. Zip up that directory and transfer it to a local machine to access the .html files and  other matches for the input files. "
   ]
  },
  {
   "cell_type": "markdown",
   "metadata": {},
   "source": [
    "Part 2: Making the rhodopsin Tree\n",
    "\n",
    "Download the hmmer3 package from http://hmmer.org/ "
   ]
  },
  {
   "cell_type": "code",
   "execution_count": null,
   "metadata": {
    "collapsed": false
   },
   "outputs": [],
   "source": [
    "!wget  http://eddylab.org/software/hmmer3/3.1b2/hmmer-3.1b2-macosx-intel.tar.gz\n",
    "!tar -xvf hmmer-3.1b2-macosx-intel.tar.gz\n",
    "!cd hmmer-3.1b2-macosx-intel"
   ]
  },
  {
   "cell_type": "markdown",
   "metadata": {},
   "source": [
    "Then configure and make in order to use hmmer3"
   ]
  },
  {
   "cell_type": "code",
   "execution_count": null,
   "metadata": {
    "collapsed": false
   },
   "outputs": [],
   "source": [
    "!configure\n",
    "!make\n",
    "!make check"
   ]
  },
  {
   "cell_type": "markdown",
   "metadata": {},
   "source": [
    "Then install the hmmer builder"
   ]
  },
  {
   "cell_type": "code",
   "execution_count": null,
   "metadata": {
    "collapsed": false
   },
   "outputs": [],
   "source": [
    "!sudo apt-get install hmmer\n",
    "!y"
   ]
  },
  {
   "cell_type": "markdown",
   "metadata": {},
   "source": [
    "You can now run the commands to build the hmm file necessary for making the alignment file for the tree. The files for this workflow are available in Lizzy's private datasets on IMG. You can navigate to the fasta files using the following protocol:\n",
    "\n",
    "1. Filter the datasets using \"study name\" from the dropdown menu in the filter column. Set the study to \"salt marsh\" and this will bring up the OTUs. Add all of the resulting files (there should be 8) to your genome cart.\n",
    "2. Navigate to the \"Find Genes\" tab at the top of the page and specify \"rhodopsin\" in the search bar. Add all of the genomes in your cart to the right block to search through them. This should pull up 4 matches. Add those matches to your gene cart. \n",
    "3. Navigate to your gene cart and click the \"Upload & Export & Save\" tab. Scroll until you see the \"Export gene\" option. Here you will see options to export the rhodopsin genes as amino acid sequences or nucleotide sequences. For this workflow, we use the amino acid sequences. \n",
    "4. Save the resulting sequences however you like, either in a text editor or through the nano command in terminal. "
   ]
  },
  {
   "cell_type": "code",
   "execution_count": null,
   "metadata": {
    "collapsed": true
   },
   "outputs": [],
   "source": [
    "!hmmbuild <outputhmmfilename.hmm> <inputfilename.stk> \n",
    "!hmmalign --mapali <inputfilename.stk> <inputfilename.stk> <new-sequence-to-add-to-tree.fasta> > <outputfilename.stk>"
   ]
  },
  {
   "cell_type": "markdown",
   "metadata": {},
   "source": [
    "You will need to convert the resulting .stk file to a fasta file in order to produce the tree. This website will do the conversion: https://www.hiv.lanl.gov/content/sequence/FORMAT_CONVERSION/form.html\n",
    "\n",
    "Then upload the resulting .fasta file to your instance and input that into the FastTree file creator, downloadable at http://www.microbesonline.org/fasttree/#Install"
   ]
  },
  {
   "cell_type": "code",
   "execution_count": null,
   "metadata": {
    "collapsed": true
   },
   "outputs": [],
   "source": [
    "!wget http://www.microbesonline.org/fasttree/FastTree.c\n",
    "!gcc -O3 -finline-functions -funroll-loops -Wall -o FastTree FastTree.c -lm\n",
    "!FastTree <input-sequence-alignment-file.fasta> > <Outputfilename.tre>"
   ]
  },
  {
   "cell_type": "markdown",
   "metadata": {},
   "source": [
    "This should output the tree file! You can view this file using FigTree, downloadable at http://tree.bio.ed.ac.uk/software/figtree/.\n",
    "\n",
    "If you need to change the taxa names in the tree file you can use the TAXNAMECONVERT software from http://www.cibiv.at/software/taxnameconvert/. "
   ]
  },
  {
   "cell_type": "code",
   "execution_count": null,
   "metadata": {
    "collapsed": true
   },
   "outputs": [],
   "source": [
    "!wget http://www.cibiv.at/software/taxnameconvert/taxnameconvert-2.4.tar.gz"
   ]
  },
  {
   "cell_type": "markdown",
   "metadata": {},
   "source": [
    "You will need to untar the file, but you need only input a file including the table of names you wish to convert and the file for conversion (and an output name for the resulting file)"
   ]
  },
  {
   "cell_type": "code",
   "execution_count": null,
   "metadata": {
    "collapsed": true
   },
   "outputs": [],
   "source": [
    "!tar -xvf taxnameconvert-2.4.tar.gz\n",
    "!cd taxnameconvert-2.4\n",
    "!./taxnameconvert <table-file> <tree-file.tre> <outputtreefilename.tre>"
   ]
  },
  {
   "cell_type": "markdown",
   "metadata": {},
   "source": [
    "This workflow should produce the tree you are interested in!"
   ]
  }
 ],
 "metadata": {
  "kernelspec": {
   "display_name": "Python 2",
   "language": "python",
   "name": "python2"
  },
  "language_info": {
   "codemirror_mode": {
    "name": "ipython",
    "version": 2
   },
   "file_extension": ".py",
   "mimetype": "text/x-python",
   "name": "python",
   "nbconvert_exporter": "python",
   "pygments_lexer": "ipython2",
   "version": "2.7.13"
  }
 },
 "nbformat": 4,
 "nbformat_minor": 2
}
